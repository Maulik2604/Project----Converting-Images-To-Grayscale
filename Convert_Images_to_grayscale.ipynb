{
  "nbformat": 4,
  "nbformat_minor": 0,
  "metadata": {
    "colab": {
      "provenance": [],
      "include_colab_link": true
    },
    "kernelspec": {
      "name": "python3",
      "display_name": "Python 3"
    },
    "language_info": {
      "name": "python"
    }
  },
  "cells": [
    {
      "cell_type": "markdown",
      "metadata": {
        "id": "view-in-github",
        "colab_type": "text"
      },
      "source": [
        "<a href=\"https://colab.research.google.com/github/Maulik2604/Project----Converting-Images-To-Grayscale/blob/main/Convert_Images_to_grayscale.ipynb\" target=\"_parent\"><img src=\"https://colab.research.google.com/assets/colab-badge.svg\" alt=\"Open In Colab\"/></a>"
      ]
    },
    {
      "cell_type": "markdown",
      "source": [
        "Project -> Convert images to grayscale"
      ],
      "metadata": {
        "id": "Ks57uqDfSCDj"
      }
    },
    {
      "cell_type": "code",
      "source": [
        "!pip install opencv-python"
      ],
      "metadata": {
        "id": "L3anIy2zJLAG"
      },
      "execution_count": null,
      "outputs": []
    },
    {
      "cell_type": "code",
      "execution_count": null,
      "metadata": {
        "id": "TSqgBTzwDGx0"
      },
      "outputs": [],
      "source": [
        "!pip install grey"
      ]
    },
    {
      "cell_type": "code",
      "source": [
        "import cv2\n",
        "import os\n",
        "\n",
        "\n",
        "image_directory = \"\"\n",
        "\n",
        "\n",
        "image_files = os.listdir(image_directory)\n",
        "\n",
        "\n",
        "for filename in image_files:\n",
        "\n",
        "    if filename.endswith(\".jpg\") or filename.endswith(\".png\") or filename.endswith(\".jpeg\"):\n",
        "\n",
        "        image_path = os.path.join(image_directory, filename)\n",
        "        image = cv2.imread(image_path)\n",
        "\n",
        "\n",
        "        gray_image = cv2.cvtColor(image, cv2.COLOR_BGR2GRAY)\n",
        "\n",
        "        new_filename = filename.split(\".\")[0] + \"_gray.jpg\"  # Change the extension if needed\n",
        "        save_path = os.path.join(image_directory, new_filename)\n",
        "        cv2.imwrite(save_path, gray_image)\n",
        "\n",
        "        print(f\"Image '{filename}' converted and saved as '{new_filename}'\")"
      ],
      "metadata": {
        "id": "6DeG9oBPH_aY"
      },
      "execution_count": null,
      "outputs": []
    }
  ]
}